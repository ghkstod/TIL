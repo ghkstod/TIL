{
 "cells": [
  {
   "cell_type": "code",
   "execution_count": 1,
   "id": "3495c46d-b3d9-42e7-bc81-ed09f27b2846",
   "metadata": {},
   "outputs": [],
   "source": [
    "import pandas as pd\n",
    "import numpy as np\n",
    "import scipy\n",
    "import seaborn as sns\n",
    "import matplotlib.pyplot as plt"
   ]
  },
  {
   "cell_type": "code",
   "execution_count": 2,
   "id": "53a5ba61-ff71-46e1-a78b-7efd299bc130",
   "metadata": {},
   "outputs": [
    {
     "name": "stdout",
     "output_type": "stream",
     "text": [
      "3.091042453358316\n",
      "1.26.2\n"
     ]
    }
   ],
   "source": [
    "print(np.log(22))\n",
    "print(np.__version__)"
   ]
  },
  {
   "cell_type": "code",
   "execution_count": 3,
   "id": "b926b9c8-7544-4925-9342-59d176726291",
   "metadata": {},
   "outputs": [
    {
     "data": {
      "text/plain": [
       "[1, 2, 3, 4, 3, 4, 5, 6]"
      ]
     },
     "execution_count": 3,
     "metadata": {},
     "output_type": "execute_result"
    }
   ],
   "source": [
    "num1=[1,2,3,4]\n",
    "num2=[3,4,5,6]\n",
    "\n",
    "num1+num2"
   ]
  },
  {
   "cell_type": "code",
   "execution_count": 4,
   "id": "82f55422-7a17-446a-83cf-f34793cff5ef",
   "metadata": {},
   "outputs": [
    {
     "data": {
      "text/plain": [
       "array([ 4,  6,  8, 10])"
      ]
     },
     "execution_count": 4,
     "metadata": {},
     "output_type": "execute_result"
    }
   ],
   "source": [
    "arr1=np.array(num1)\n",
    "arr2=np.array(num2)\n",
    "\n",
    "arr1+arr2"
   ]
  },
  {
   "cell_type": "code",
   "execution_count": 5,
   "id": "ec2dd7fb-3fe2-4f0a-892e-61a46db90959",
   "metadata": {},
   "outputs": [
    {
     "name": "stdout",
     "output_type": "stream",
     "text": [
      "원래 배열 [ 1.          2.71828183  7.3890561  10.        ]\n",
      "자연로그 배열 [0.         1.         2.         2.30258509]\n"
     ]
    }
   ],
   "source": [
    "arr=np.array([1,np.e,np.e**2,10])\n",
    "\n",
    "print('원래 배열',arr)\n",
    "print('자연로그 배열',np.log(arr))"
   ]
  },
  {
   "cell_type": "code",
   "execution_count": 6,
   "id": "436aa9e7-dcfb-4eda-a02a-003883c60514",
   "metadata": {},
   "outputs": [
    {
     "data": {
      "text/plain": [
       "array([0, 1, 2, 3, 4, 5])"
      ]
     },
     "execution_count": 6,
     "metadata": {},
     "output_type": "execute_result"
    }
   ],
   "source": [
    "data1=[0,1,2,3,4,5]\n",
    "a1=np.array(data1)\n",
    "a1"
   ]
  },
  {
   "cell_type": "code",
   "execution_count": 7,
   "id": "b4ebc63e-1c0d-43db-a478-34d4e85ba802",
   "metadata": {},
   "outputs": [
    {
     "data": {
      "text/plain": [
       "dtype('int32')"
      ]
     },
     "execution_count": 7,
     "metadata": {},
     "output_type": "execute_result"
    }
   ],
   "source": [
    "a1.dtype \n",
    "#int8,int16,int32,int64 -> 메모리관리"
   ]
  },
  {
   "cell_type": "code",
   "execution_count": 8,
   "id": "a790517a-334c-4ecd-885a-0dc943fc6a29",
   "metadata": {},
   "outputs": [
    {
     "data": {
      "text/plain": [
       "array([0.5, 2. , 0.1, 8. ])"
      ]
     },
     "execution_count": 8,
     "metadata": {},
     "output_type": "execute_result"
    }
   ],
   "source": [
    "data2=[0.5,2.0,0.1,8]\n",
    "a2=np.array(data2)\n",
    "a2"
   ]
  },
  {
   "cell_type": "code",
   "execution_count": 9,
   "id": "ea255f56-792d-4cb5-88d3-9763d6a2ef75",
   "metadata": {},
   "outputs": [
    {
     "data": {
      "text/plain": [
       "dtype('float64')"
      ]
     },
     "execution_count": 9,
     "metadata": {},
     "output_type": "execute_result"
    }
   ],
   "source": [
    "a2.dtype"
   ]
  },
  {
   "cell_type": "markdown",
   "id": "083a8631-4ed6-4bf0-9de2-0bc017826ae4",
   "metadata": {},
   "source": [
    "## numpy 배열 생성\n",
    "- 1차원,2차원,3차원.. 배열생성 가능"
   ]
  },
  {
   "cell_type": "code",
   "execution_count": 10,
   "id": "581af744-9048-40bd-a17d-e333deb1cbcf",
   "metadata": {},
   "outputs": [
    {
     "data": {
      "text/plain": [
       "array([0, 2, 4, 6, 8])"
      ]
     },
     "execution_count": 10,
     "metadata": {},
     "output_type": "execute_result"
    }
   ],
   "source": [
    "np.arange(0,10,2)"
   ]
  },
  {
   "cell_type": "code",
   "execution_count": 11,
   "id": "1b3283e5-34ff-4130-a363-5eecd8ad7662",
   "metadata": {},
   "outputs": [
    {
     "data": {
      "text/plain": [
       "array([0, 1, 2, 3, 4, 5, 6, 7, 8, 9])"
      ]
     },
     "execution_count": 11,
     "metadata": {},
     "output_type": "execute_result"
    }
   ],
   "source": [
    "np.arange(10)"
   ]
  },
  {
   "cell_type": "code",
   "execution_count": 12,
   "id": "e4a6bc75-ab39-40e2-bb14-20af326a4e2b",
   "metadata": {},
   "outputs": [
    {
     "data": {
      "text/plain": [
       "array([[ 0,  1,  2],\n",
       "       [ 3,  4,  5],\n",
       "       [ 6,  7,  8],\n",
       "       [ 9, 10, 11]])"
      ]
     },
     "execution_count": 12,
     "metadata": {},
     "output_type": "execute_result"
    }
   ],
   "source": [
    "np.arange(12).reshape(4,3)"
   ]
  },
  {
   "cell_type": "code",
   "execution_count": 13,
   "id": "490e0db0-f906-48a4-99aa-fd15abf0029f",
   "metadata": {},
   "outputs": [
    {
     "data": {
      "text/plain": [
       "(2, 2, 3)"
      ]
     },
     "execution_count": 13,
     "metadata": {},
     "output_type": "execute_result"
    }
   ],
   "source": [
    "b1=np.arange(12).reshape(2,2,3)\n",
    "b1.shape"
   ]
  },
  {
   "cell_type": "code",
   "execution_count": 14,
   "id": "8f498962-73e4-4a33-acf8-b7b23407f821",
   "metadata": {},
   "outputs": [
    {
     "data": {
      "text/plain": [
       "dtype('float64')"
      ]
     },
     "execution_count": 14,
     "metadata": {},
     "output_type": "execute_result"
    }
   ],
   "source": [
    "arr5=np.linspace(0,20,5)\n",
    "arr5.dtype"
   ]
  },
  {
   "cell_type": "code",
   "execution_count": 15,
   "id": "533d1164-b611-47b4-8867-a4abf74bee90",
   "metadata": {},
   "outputs": [
    {
     "data": {
      "text/plain": [
       "array([[0., 0.],\n",
       "       [0., 0.],\n",
       "       [0., 0.],\n",
       "       [0., 0.],\n",
       "       [0., 0.],\n",
       "       [0., 0.],\n",
       "       [0., 0.],\n",
       "       [0., 0.],\n",
       "       [0., 0.],\n",
       "       [0., 0.]])"
      ]
     },
     "execution_count": 15,
     "metadata": {},
     "output_type": "execute_result"
    }
   ],
   "source": [
    "np.zeros((10,2))"
   ]
  },
  {
   "cell_type": "code",
   "execution_count": 16,
   "id": "c48ff775-dfdb-4b1c-b986-10f546a54e35",
   "metadata": {},
   "outputs": [
    {
     "data": {
      "text/plain": [
       "array([[1., 1.],\n",
       "       [1., 1.]])"
      ]
     },
     "execution_count": 16,
     "metadata": {},
     "output_type": "execute_result"
    }
   ],
   "source": [
    "np.ones((2,2))"
   ]
  },
  {
   "cell_type": "code",
   "execution_count": 17,
   "id": "ecb4b813-3190-4d31-a867-cc47c1b3fea1",
   "metadata": {},
   "outputs": [
    {
     "data": {
      "text/plain": [
       "array([[1., 0., 0.],\n",
       "       [0., 1., 0.],\n",
       "       [0., 0., 1.]])"
      ]
     },
     "execution_count": 17,
     "metadata": {},
     "output_type": "execute_result"
    }
   ],
   "source": [
    "#단위행렬\n",
    "arr_I=np.eye(3)\n",
    "arr_I"
   ]
  },
  {
   "cell_type": "code",
   "execution_count": 18,
   "id": "db61541b-fff3-45c1-990a-2d96e94a487d",
   "metadata": {},
   "outputs": [
    {
     "data": {
      "text/plain": [
       "dtype('float64')"
      ]
     },
     "execution_count": 18,
     "metadata": {},
     "output_type": "execute_result"
    }
   ],
   "source": [
    "arr=np.array(['1.5','0.62'])\n",
    "num_arr=arr.astype(float)\n",
    "num_arr.dtype"
   ]
  },
  {
   "cell_type": "code",
   "execution_count": 19,
   "id": "6c361d85-8089-483c-8777-237d37dccbfc",
   "metadata": {},
   "outputs": [
    {
     "data": {
      "text/plain": [
       "array([10, 21,  0,  4,  5])"
      ]
     },
     "execution_count": 19,
     "metadata": {},
     "output_type": "execute_result"
    }
   ],
   "source": [
    "num_f1=np.array([10,21,0.549,4.75,5.98])\n",
    "num_f1=num_f1.astype(int) #소수점 삭제\n",
    "num_f1"
   ]
  },
  {
   "cell_type": "code",
   "execution_count": 20,
   "id": "bc08bc2d-ad59-4763-8360-9d980819be2a",
   "metadata": {},
   "outputs": [
    {
     "data": {
      "text/plain": [
       "array([10.   , 21.   ,  0.549,  4.75 ,  5.98 ])"
      ]
     },
     "execution_count": 20,
     "metadata": {},
     "output_type": "execute_result"
    }
   ],
   "source": [
    "num_f1=np.array([10,21,0.549,4.75,5.98])\n",
    "num_f1=num_f1.astype(float)\n",
    "num_f1"
   ]
  },
  {
   "cell_type": "code",
   "execution_count": 21,
   "id": "5398b98c-d584-48a8-a6d4-2c812c70bf20",
   "metadata": {},
   "outputs": [
    {
     "data": {
      "text/plain": [
       "array([[0.38068978, 0.06483642, 0.47670918],\n",
       "       [0.47499787, 0.31777825, 0.04494895]])"
      ]
     },
     "execution_count": 21,
     "metadata": {},
     "output_type": "execute_result"
    }
   ],
   "source": [
    "np.random.rand(2,3) #0~1 사이의 난수 배열(n,m)"
   ]
  },
  {
   "cell_type": "code",
   "execution_count": 22,
   "id": "f07eed94-3b99-4bc0-9744-e6aad2a240c8",
   "metadata": {},
   "outputs": [
    {
     "data": {
      "text/plain": [
       "5"
      ]
     },
     "execution_count": 22,
     "metadata": {},
     "output_type": "execute_result"
    }
   ],
   "source": [
    "np.random.randint(2,10) #n~m까지의 정수 랜덤"
   ]
  },
  {
   "cell_type": "code",
   "execution_count": 23,
   "id": "1b0a30b6-6423-4683-a780-ee1cef7f0a2c",
   "metadata": {},
   "outputs": [
    {
     "data": {
      "text/plain": [
       "array([ 8,  9, 11, 20, 38, 41])"
      ]
     },
     "execution_count": 23,
     "metadata": {},
     "output_type": "execute_result"
    }
   ],
   "source": [
    "a=np.random.choice(np.arange(1, 46), size=6, replace=False)\n",
    "a.sort()\n",
    "a"
   ]
  },
  {
   "cell_type": "code",
   "execution_count": 12,
   "id": "21ea8d03-e2f6-4662-b504-dd7e98c6f4ff",
   "metadata": {},
   "outputs": [
    {
     "data": {
      "text/plain": [
       "[33, 23, 8, 13, 24, 6, 7]"
      ]
     },
     "execution_count": 12,
     "metadata": {},
     "output_type": "execute_result"
    }
   ],
   "source": [
    "list_a=[]\n",
    "while len(list_a)<7:\n",
    "    b=np.random.randint(1,46)\n",
    "    if b in list_a:\n",
    "        pass\n",
    "    else:\n",
    "        list_a.append(b)\n",
    "list_a"
   ]
  },
  {
   "cell_type": "code",
   "execution_count": 22,
   "id": "c76df57b-e187-4f8b-8384-ca1c6e0ae781",
   "metadata": {},
   "outputs": [
    {
     "name": "stdout",
     "output_type": "stream",
     "text": [
      "[11 22 33 44]\n",
      "[ 9 18 27 36]\n",
      "[ 10  40  90 160]\n",
      "[10. 10. 10. 10.]\n"
     ]
    }
   ],
   "source": [
    "arr1=np.array([10,20,30,40])\n",
    "arr2=np.array([1,2,3,4])\n",
    "\n",
    "print(arr1+arr2)\n",
    "print(arr1-arr2)\n",
    "print(arr1*arr2)\n",
    "print(arr1/arr2)"
   ]
  },
  {
   "cell_type": "markdown",
   "id": "08667bd9-0af1-46a8-a001-141d45c05aad",
   "metadata": {},
   "source": [
    "## 비교연산"
   ]
  },
  {
   "cell_type": "code",
   "execution_count": 31,
   "id": "1449c498-bf67-47da-b5c6-770484ce2def",
   "metadata": {},
   "outputs": [],
   "source": [
    "arr1=np.array([10,20,30,40])\n",
    "for i in range(len(arr1)):\n",
    "    if arr1[i]>20:\n",
    "        arr1[i]=0\n",
    "    else:\n",
    "        arr1[i]=1"
   ]
  },
  {
   "cell_type": "code",
   "execution_count": 32,
   "id": "090b49d8-a38c-41e8-b5f8-658faa4397e1",
   "metadata": {},
   "outputs": [
    {
     "data": {
      "text/plain": [
       "array([1, 1, 0, 0])"
      ]
     },
     "execution_count": 32,
     "metadata": {},
     "output_type": "execute_result"
    }
   ],
   "source": [
    "arr1"
   ]
  },
  {
   "cell_type": "markdown",
   "id": "b7e0ce4d-ae30-41c4-a0cc-0e6a6b6ac6af",
   "metadata": {},
   "source": [
    "## 등계연산\n",
    "- Numpy 합 평균 표준편차 분산 최솟값 최댓값 등 메서드 존재\n",
    "  + 기술 통계량"
   ]
  },
  {
   "cell_type": "code",
   "execution_count": 36,
   "id": "99cc0cf6-d7c4-4e93-b485-32571f39d747",
   "metadata": {},
   "outputs": [
    {
     "data": {
      "text/plain": [
       "array([0, 1, 2, 3, 4])"
      ]
     },
     "execution_count": 36,
     "metadata": {},
     "output_type": "execute_result"
    }
   ],
   "source": [
    "arr3=np.arange(5)\n",
    "arr3"
   ]
  },
  {
   "cell_type": "code",
   "execution_count": 42,
   "id": "86b36a34-f1e7-494a-a633-95b046c2e11a",
   "metadata": {},
   "outputs": [
    {
     "name": "stdout",
     "output_type": "stream",
     "text": [
      "10\n",
      "2.0\n",
      "2.0\n",
      "4\n",
      "0\n",
      "1.4142135623730951\n"
     ]
    }
   ],
   "source": [
    "print(arr3.sum())\n",
    "print(arr3.mean())\n",
    "print(arr3.var())\n",
    "print(arr3.max())\n",
    "print(arr3.min())\n",
    "print(arr3.std())"
   ]
  },
  {
   "cell_type": "markdown",
   "id": "d1813b34-fe9c-479f-b504-cf3eb3db0d02",
   "metadata": {},
   "source": [
    "## 누적합 누적곱"
   ]
  },
  {
   "cell_type": "code",
   "execution_count": 47,
   "id": "4981aefb-c87f-434f-9315-f70c0cc571de",
   "metadata": {},
   "outputs": [],
   "source": [
    "arr4=np.arange(1,5)"
   ]
  },
  {
   "cell_type": "code",
   "execution_count": 48,
   "id": "e3ef39a0-bc46-409a-80f1-86bed0cc88fa",
   "metadata": {},
   "outputs": [
    {
     "data": {
      "text/plain": [
       "array([ 1,  2,  6, 24])"
      ]
     },
     "execution_count": 48,
     "metadata": {},
     "output_type": "execute_result"
    }
   ],
   "source": [
    "arr4.cumprod()"
   ]
  },
  {
   "cell_type": "code",
   "execution_count": 49,
   "id": "dcfaee05-1661-4c47-882f-43bcd66f2e17",
   "metadata": {},
   "outputs": [
    {
     "data": {
      "text/plain": [
       "array([ 1,  3,  6, 10])"
      ]
     },
     "execution_count": 49,
     "metadata": {},
     "output_type": "execute_result"
    }
   ],
   "source": [
    "arr4.cumsum()"
   ]
  },
  {
   "cell_type": "markdown",
   "id": "a7f50060-199c-4cbf-bb6b-23eaead1df2f",
   "metadata": {},
   "source": [
    "## 행렬연산\n",
    "- 선형대수를 위한 2차원 배열 연산도 지원"
   ]
  },
  {
   "cell_type": "code",
   "execution_count": 55,
   "id": "03202d77-4e1e-41c4-8564-523bda9864fc",
   "metadata": {},
   "outputs": [],
   "source": [
    "A=np.array([0,1,2,3]).reshape(2,2)\n",
    "B=np.array([3,2,0,1]).reshape(2,2)"
   ]
  },
  {
   "cell_type": "code",
   "execution_count": 56,
   "id": "e8fb37d6-314a-45ff-8290-c89646370c12",
   "metadata": {},
   "outputs": [
    {
     "data": {
      "text/plain": [
       "array([[0, 1],\n",
       "       [6, 7]])"
      ]
     },
     "execution_count": 56,
     "metadata": {},
     "output_type": "execute_result"
    }
   ],
   "source": [
    "A.dot(B)"
   ]
  },
  {
   "cell_type": "code",
   "execution_count": 57,
   "id": "00de4bfc-926f-4389-accd-dd7774a13c78",
   "metadata": {},
   "outputs": [
    {
     "data": {
      "text/plain": [
       "array([[0, 1],\n",
       "       [2, 3]])"
      ]
     },
     "execution_count": 57,
     "metadata": {},
     "output_type": "execute_result"
    }
   ],
   "source": [
    "A"
   ]
  },
  {
   "cell_type": "code",
   "execution_count": 58,
   "id": "53d660b7-49a0-4883-9d05-a50a9d756f68",
   "metadata": {},
   "outputs": [
    {
     "data": {
      "text/plain": [
       "array([[0, 2],\n",
       "       [1, 3]])"
      ]
     },
     "execution_count": 58,
     "metadata": {},
     "output_type": "execute_result"
    }
   ],
   "source": [
    "A.transpose()"
   ]
  },
  {
   "cell_type": "code",
   "execution_count": 60,
   "id": "8aa75647-0654-41dd-b635-d638ac1ad8f1",
   "metadata": {},
   "outputs": [
    {
     "data": {
      "text/plain": [
       "array([[1., 0.],\n",
       "       [0., 1.]])"
      ]
     },
     "execution_count": 60,
     "metadata": {},
     "output_type": "execute_result"
    }
   ],
   "source": [
    "np.linalg.inv(A).dot(A)"
   ]
  },
  {
   "cell_type": "markdown",
   "id": "4ef4b13b-e121-4757-919e-ae626328b9d0",
   "metadata": {},
   "source": [
    "## 배열의 인덱싱 슬라이싱"
   ]
  },
  {
   "cell_type": "code",
   "execution_count": 65,
   "id": "5967199b-66f5-4bf9-a2f7-09f8d3221a3c",
   "metadata": {},
   "outputs": [
    {
     "data": {
      "text/plain": [
       "array([ 0, 10, 20, 30, 40, 50])"
      ]
     },
     "execution_count": 65,
     "metadata": {},
     "output_type": "execute_result"
    }
   ],
   "source": [
    "a1=np.array([0,10,20,30,40,50])\n",
    "a1"
   ]
  },
  {
   "cell_type": "code",
   "execution_count": 66,
   "id": "ec564ca7-406e-4997-ae6e-084eb5fb6d90",
   "metadata": {},
   "outputs": [
    {
     "data": {
      "text/plain": [
       "50"
      ]
     },
     "execution_count": 66,
     "metadata": {},
     "output_type": "execute_result"
    }
   ],
   "source": [
    "a1[5]"
   ]
  },
  {
   "cell_type": "code",
   "execution_count": 69,
   "id": "3b31be7e-d368-434a-b3e3-b43a2dd01cf1",
   "metadata": {},
   "outputs": [
    {
     "data": {
      "text/plain": [
       "array([ 0, 20, 40])"
      ]
     },
     "execution_count": 69,
     "metadata": {},
     "output_type": "execute_result"
    }
   ],
   "source": [
    "a1[[0,2,4]]"
   ]
  },
  {
   "cell_type": "code",
   "execution_count": 81,
   "id": "bf6c21b1-1c6e-4d5c-ba69-48d76fe60363",
   "metadata": {},
   "outputs": [],
   "source": [
    "a2=np.arange(10,106,5).reshape(4,5)"
   ]
  },
  {
   "cell_type": "code",
   "execution_count": 82,
   "id": "31db6972-759f-4993-a279-abad695cab5c",
   "metadata": {},
   "outputs": [
    {
     "data": {
      "text/plain": [
       "array([[ 10,  15,  20,  25,  30],\n",
       "       [ 35,  40,  45,  50,  55],\n",
       "       [ 60,  65,  70,  75,  80],\n",
       "       [ 85,  90,  95, 100, 105]])"
      ]
     },
     "execution_count": 82,
     "metadata": {},
     "output_type": "execute_result"
    }
   ],
   "source": [
    "a2"
   ]
  },
  {
   "cell_type": "code",
   "execution_count": 88,
   "id": "712e06eb-0f5d-4ca3-bfb5-0cca832184be",
   "metadata": {},
   "outputs": [
    {
     "data": {
      "text/plain": [
       "array([[40, 45, 50],\n",
       "       [65, 70, 75]])"
      ]
     },
     "execution_count": 88,
     "metadata": {},
     "output_type": "execute_result"
    }
   ],
   "source": [
    "a2[1:3,1:4]"
   ]
  },
  {
   "cell_type": "code",
   "execution_count": 89,
   "id": "887b3b0c-189e-440b-897f-7a54b0cf5e85",
   "metadata": {},
   "outputs": [
    {
     "data": {
      "text/plain": [
       "array([10, 15, 20, 25, 30])"
      ]
     },
     "execution_count": 89,
     "metadata": {},
     "output_type": "execute_result"
    }
   ],
   "source": [
    "a2[0]"
   ]
  },
  {
   "cell_type": "code",
   "execution_count": 92,
   "id": "5ad5df34-abdd-41e3-a009-37159df8a1f6",
   "metadata": {},
   "outputs": [
    {
     "data": {
      "text/plain": [
       "array([15, 65])"
      ]
     },
     "execution_count": 92,
     "metadata": {},
     "output_type": "execute_result"
    }
   ],
   "source": [
    "a2[[0,2],[1,1]]"
   ]
  },
  {
   "cell_type": "markdown",
   "id": "eabf100f-4799-433f-84e1-4a130fa1ccba",
   "metadata": {},
   "source": [
    "## 배열 조건문\n",
    "- pandas 와 유사"
   ]
  },
  {
   "cell_type": "code",
   "execution_count": 93,
   "id": "ba75aee5-474c-43a9-8a58-5df8efd9d39e",
   "metadata": {},
   "outputs": [
    {
     "data": {
      "text/plain": [
       "array([1, 2, 3, 4, 5, 6])"
      ]
     },
     "execution_count": 93,
     "metadata": {},
     "output_type": "execute_result"
    }
   ],
   "source": [
    "a=np.array([1,2,3,4,5,6])\n",
    "a"
   ]
  },
  {
   "cell_type": "code",
   "execution_count": 96,
   "id": "24759b08-8a49-49d7-a11d-999f237d9f94",
   "metadata": {},
   "outputs": [
    {
     "name": "stdout",
     "output_type": "stream",
     "text": [
      "4\n",
      "5\n",
      "6\n"
     ]
    }
   ],
   "source": [
    "for i in range(len(a)):\n",
    "    if a[i]>3:\n",
    "        print(a[i])"
   ]
  },
  {
   "cell_type": "code",
   "execution_count": 101,
   "id": "72697a6c-e8c8-43d4-bbb6-3d55c6c66212",
   "metadata": {},
   "outputs": [
    {
     "data": {
      "text/plain": [
       "array([2, 4, 6])"
      ]
     },
     "execution_count": 101,
     "metadata": {},
     "output_type": "execute_result"
    }
   ],
   "source": [
    "a[a%2==0]"
   ]
  },
  {
   "cell_type": "code",
   "execution_count": 102,
   "id": "58e0f8b8-8fcf-45ba-bd77-6e0b6d76d4bc",
   "metadata": {},
   "outputs": [
    {
     "data": {
      "text/plain": [
       "array([False, False, False,  True,  True,  True])"
      ]
     },
     "execution_count": 102,
     "metadata": {},
     "output_type": "execute_result"
    }
   ],
   "source": [
    "a>3"
   ]
  },
  {
   "cell_type": "code",
   "execution_count": 103,
   "id": "baf053e0-4d6f-45f6-aae4-22519da95954",
   "metadata": {},
   "outputs": [
    {
     "data": {
      "text/plain": [
       "array([0, 1, 2, 3, 4, 5])"
      ]
     },
     "execution_count": 103,
     "metadata": {},
     "output_type": "execute_result"
    }
   ],
   "source": [
    "b1=np.array([0,1,2,3,4,5])\n",
    "b1"
   ]
  },
  {
   "cell_type": "code",
   "execution_count": 104,
   "id": "90e47806-195f-4690-a445-50ca036a7d12",
   "metadata": {},
   "outputs": [
    {
     "data": {
      "text/plain": [
       "array([1, 2, 3])"
      ]
     },
     "execution_count": 104,
     "metadata": {},
     "output_type": "execute_result"
    }
   ],
   "source": [
    "b1[1:4]"
   ]
  },
  {
   "cell_type": "code",
   "execution_count": 105,
   "id": "18184fae-d627-46c6-97e1-0cf616e454a6",
   "metadata": {},
   "outputs": [
    {
     "data": {
      "text/plain": [
       "array([2, 3, 4, 5])"
      ]
     },
     "execution_count": 105,
     "metadata": {},
     "output_type": "execute_result"
    }
   ],
   "source": [
    "b1[2:]"
   ]
  },
  {
   "cell_type": "code",
   "execution_count": 107,
   "id": "ce670c76-5eb8-408b-8538-15f26276db1b",
   "metadata": {},
   "outputs": [
    {
     "data": {
      "text/plain": [
       "array([0, 2])"
      ]
     },
     "execution_count": 107,
     "metadata": {},
     "output_type": "execute_result"
    }
   ],
   "source": [
    "b1[0:4:2]"
   ]
  },
  {
   "cell_type": "code",
   "execution_count": 108,
   "id": "5a243a9e-6176-4deb-accb-a2df868cfb25",
   "metadata": {},
   "outputs": [],
   "source": [
    "b1[2:5]=np.array([25,35,45])"
   ]
  },
  {
   "cell_type": "code",
   "execution_count": 109,
   "id": "2007ddac-500e-4b9f-aea1-be86a9b1e45f",
   "metadata": {},
   "outputs": [
    {
     "data": {
      "text/plain": [
       "array([ 0,  1, 25, 35, 45,  5])"
      ]
     },
     "execution_count": 109,
     "metadata": {},
     "output_type": "execute_result"
    }
   ],
   "source": [
    "b1"
   ]
  },
  {
   "cell_type": "code",
   "execution_count": 110,
   "id": "d25a7574-bccd-4f52-b379-364f0b3b9460",
   "metadata": {},
   "outputs": [
    {
     "data": {
      "text/plain": [
       "array([ 0,  1, 25, 60, 60, 60])"
      ]
     },
     "execution_count": 110,
     "metadata": {},
     "output_type": "execute_result"
    }
   ],
   "source": [
    "b1[3:6]=60\n",
    "b1"
   ]
  },
  {
   "cell_type": "code",
   "execution_count": 111,
   "id": "12b71ec2-4a54-429c-ac7c-a4866f5e9e4b",
   "metadata": {},
   "outputs": [
    {
     "data": {
      "text/plain": [
       "array([35, 40, 45, 50, 55])"
      ]
     },
     "execution_count": 111,
     "metadata": {},
     "output_type": "execute_result"
    }
   ],
   "source": [
    "a2[1]"
   ]
  },
  {
   "cell_type": "code",
   "execution_count": 112,
   "id": "3113adab-a2b1-46bb-8691-76f84126ee02",
   "metadata": {},
   "outputs": [
    {
     "data": {
      "text/plain": [
       "40"
      ]
     },
     "execution_count": 112,
     "metadata": {},
     "output_type": "execute_result"
    }
   ],
   "source": [
    "a2[1][1]"
   ]
  },
  {
   "cell_type": "markdown",
   "id": "4781773a-b025-476c-b1e1-0b17718979c2",
   "metadata": {},
   "source": [
    "## numpy 조건문\n",
    "- np.where\n",
    "- np.select "
   ]
  },
  {
   "cell_type": "code",
   "execution_count": 114,
   "id": "b2f73939-7c3c-4850-a84e-90131c03d6a8",
   "metadata": {},
   "outputs": [
    {
     "data": {
      "text/plain": [
       "array([0, 1, 2, 3, 4, 5, 6, 7, 8, 9])"
      ]
     },
     "execution_count": 114,
     "metadata": {},
     "output_type": "execute_result"
    }
   ],
   "source": [
    "arr=np.arange(10)\n",
    "arr"
   ]
  },
  {
   "cell_type": "code",
   "execution_count": 115,
   "id": "8f4cc9d7-885d-4ea1-a2b3-c42999c6df23",
   "metadata": {},
   "outputs": [
    {
     "data": {
      "text/plain": [
       "array([ 0,  1,  2,  3,  4, 50, 60, 70, 80, 90])"
      ]
     },
     "execution_count": 115,
     "metadata": {},
     "output_type": "execute_result"
    }
   ],
   "source": [
    "np.where(arr<5,arr,arr*10)"
   ]
  },
  {
   "cell_type": "code",
   "execution_count": 116,
   "id": "f2a60cc5-e860-4d44-898d-4bfc260cf5b5",
   "metadata": {},
   "outputs": [
    {
     "data": {
      "text/plain": [
       "array([0, 1, 2, 3, 4, 5, 6, 7, 8, 9])"
      ]
     },
     "execution_count": 116,
     "metadata": {},
     "output_type": "execute_result"
    }
   ],
   "source": [
    "arr=np.arange(10)\n",
    "arr"
   ]
  },
  {
   "cell_type": "code",
   "execution_count": 121,
   "id": "7e65c090-a8af-40d4-b94d-4bc762dc2abd",
   "metadata": {},
   "outputs": [
    {
     "data": {
      "text/plain": [
       "array([100, 101,   2,   3,   4,   5,  12,  14,  16,  18])"
      ]
     },
     "execution_count": 121,
     "metadata": {},
     "output_type": "execute_result"
    }
   ],
   "source": [
    "# 100,101,2,3,4,5,12,14,16,18\n",
    "cond_list=[arr>5,arr<2]\n",
    "choice_list=[arr*2,arr+100]\n",
    "np.select(cond_list,choice_list,arr)"
   ]
  },
  {
   "cell_type": "code",
   "execution_count": null,
   "id": "c590432b-990c-476b-b233-d94aadb6e418",
   "metadata": {},
   "outputs": [],
   "source": []
  }
 ],
 "metadata": {
  "kernelspec": {
   "display_name": "Python 3 (ipykernel)",
   "language": "python",
   "name": "python3"
  },
  "language_info": {
   "codemirror_mode": {
    "name": "ipython",
    "version": 3
   },
   "file_extension": ".py",
   "mimetype": "text/x-python",
   "name": "python",
   "nbconvert_exporter": "python",
   "pygments_lexer": "ipython3",
   "version": "3.10.13"
  }
 },
 "nbformat": 4,
 "nbformat_minor": 5
}
