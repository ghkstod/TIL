{
 "cells": [
  {
   "cell_type": "code",
   "execution_count": 1,
   "id": "423b2fbd-0d6f-43a9-a389-72b34368c478",
   "metadata": {},
   "outputs": [],
   "source": [
    "import selenium"
   ]
  },
  {
   "cell_type": "code",
   "execution_count": 3,
   "id": "3e3ac038-5a94-41d0-86af-df3d081da564",
   "metadata": {},
   "outputs": [
    {
     "name": "stdout",
     "output_type": "stream",
     "text": [
      "4.17.2\n"
     ]
    }
   ],
   "source": [
    "print(selenium.__version__)"
   ]
  },
  {
   "cell_type": "code",
   "execution_count": 7,
   "id": "7f7b710c-e1ea-4d58-a32d-0410d0c76f67",
   "metadata": {},
   "outputs": [],
   "source": [
    "# chrome driver settings\n",
    "from selenium import webdriver\n",
    "from selenium.webdriver.chrome.service import Service\n",
    "from selenium.webdriver.common.by import By\n",
    "\n",
    "CHROME_DRIVER_PATH = './drivers/chromedriver.exe'\n",
    "service = Service(executable_path=CHROME_DRIVER_PATH)\n",
    "options = webdriver.ChromeOptions()\n",
    "driver = webdriver.Chrome(service=service, options=options)\n",
    "\n",
    "URL='https://signal.bz/news'\n",
    "driver.get(url=URL)"
   ]
  },
  {
   "cell_type": "code",
   "execution_count": 5,
   "id": "20c64fec-20a9-4888-a92b-897a8af6f732",
   "metadata": {},
   "outputs": [],
   "source": [
    "CSS_PATH='#app > div > main > div > section > div > section > section:nth-child(2) > div:nth-child(2) > div'\n",
    "CSS_PATH='#app > div > main > div > section > div > section > section:nth-child(2) > div:nth-child(1) > div'"
   ]
  },
  {
   "cell_type": "code",
   "execution_count": null,
   "id": "51524583-202e-4e33-95c2-baa73031339e",
   "metadata": {},
   "outputs": [],
   "source": [
    "CSS_PATH='#app > div > main > div > section > div > section > section:nth-child(2) > div:nth-child(2) > div > div:nth-child(1) > div:nth-child(1) > a > span.rank-text'"
   ]
  },
  {
   "cell_type": "code",
   "execution_count": 10,
   "id": "920dff20-ce84-4ce8-bc67-d66f7fb8d2c4",
   "metadata": {},
   "outputs": [
    {
     "name": "stdout",
     "output_type": "stream",
     "text": [
      "문경 공장 안전진단\n",
      "김성수 카카오엔터 대표\n",
      "주호민 아동학대 특수교사\n",
      "한강 리버버스\n",
      "신유빈 김운용 여성체육\n",
      "김지니 이나무\n",
      "바이든 트럼프\n",
      "성범죄 힘찬\n",
      "몰라보겠어 능청 돌연\n",
      "이언주 민주당\n",
      "\n",
      "['문경 공장 안전진단', '김성수 카카오엔터 대표', '주호민 아동학대 특수교사', '한강 리버버스', '신유빈 김운용 여성체육', '김지니 이나무', '바이든 트럼프', '성범죄 힘찬', '몰라보겠어 능청 돌연', '이언주 민주당']\n"
     ]
    }
   ],
   "source": [
    "CSS_PATH='#app > div > main > div > section > div > section > section:nth-child(2) > div:nth-child(2) > div > div > div > a > span.rank-text'\n",
    "naver_results=driver.find_elements(By.CSS_SELECTOR,CSS_PATH)\n",
    "naver_list=[]\n",
    "for naver_result in naver_results:\n",
    "    print(naver_result.text)\n",
    "    naver_list.append(naver_result.text)\n",
    "print('')\n",
    "print(naver_list)"
   ]
  },
  {
   "cell_type": "code",
   "execution_count": 11,
   "id": "73a2e29c-5de8-4291-be6e-f567c4a01730",
   "metadata": {},
   "outputs": [],
   "source": [
    "driver.quit()"
   ]
  },
  {
   "cell_type": "code",
   "execution_count": 37,
   "id": "ee7110cd-82c0-4a50-864c-9259a55d0528",
   "metadata": {},
   "outputs": [
    {
     "name": "stdout",
     "output_type": "stream",
     "text": [
      "['6_제22대 모의개표', '7_카카오엔터 파워 선정', '8_주호민 특수교사 유죄', '9_이태원참사 특별법 거부', '10_전청조 남현희 사랑해', '1_문경 화재 비대위원장', '2_흉기난동 최원종에 무기징역', '3_중대재해처벌법 유예 반대', '4_김지니 이나무', '5_김성수 카카오엔터 대표']\n"
     ]
    }
   ],
   "source": [
    "import time\n",
    "from selenium import webdriver\n",
    "from selenium.webdriver.chrome.service import Service\n",
    "from selenium.webdriver.common.by import By\n",
    "\n",
    "CHROME_DRIVER_PATH = './drivers/chromedriver.exe'\n",
    "service = Service(executable_path=CHROME_DRIVER_PATH)\n",
    "options = webdriver.ChromeOptions()\n",
    "driver = webdriver.Chrome(service=service, options=options)\n",
    "\n",
    "nate_list_1st = []\n",
    "nate_list_2nd = []\n",
    "for i in range(2):\n",
    "    URL='https://www.nate.com'\n",
    "    driver.get(url=URL) \n",
    "    rank_results = driver.find_elements(By.CSS_SELECTOR,'#olLiveIssueKeyword > li > span.num_rank')\n",
    "    nate_results = driver.find_elements(By.CSS_SELECTOR,'#olLiveIssueKeyword > li > a > span.txt_rank')\n",
    "    for rank, keyword in zip(rank_results, nate_results):\n",
    "        if i == 0:\n",
    "            nate_list_1st.append(f'{rank.text}_{keyword.text}')\n",
    "        elif i == 1:\n",
    "            nate_list_2nd.append(f'{rank.text}_{keyword.text}')\n",
    "    time.sleep(8)\n",
    "    driver.refresh()\n",
    "result = nate_list_1st + nate_list_2nd\n",
    "\n",
    "print(result)\n",
    "driver.quit()"
   ]
  },
  {
   "cell_type": "code",
   "execution_count": 38,
   "id": "62a14b04-338f-4346-8982-402503ea89dd",
   "metadata": {},
   "outputs": [],
   "source": [
    "driver.quit()"
   ]
  },
  {
   "cell_type": "code",
   "execution_count": 40,
   "id": "c914859f-d158-4eef-a4d7-cd79a14f71cf",
   "metadata": {},
   "outputs": [],
   "source": [
    "# chrome driver settings\n",
    "from selenium import webdriver\n",
    "from selenium.webdriver.chrome.service import Service\n",
    "from selenium.webdriver.common.by import By\n",
    "\n",
    "CHROME_DRIVER_PATH = './drivers/chromedriver.exe'\n",
    "service = Service(executable_path=CHROME_DRIVER_PATH)\n",
    "options = webdriver.ChromeOptions()\n",
    "driver = webdriver.Chrome(service=service, options=options)\n",
    "URL='https://www.ppomppu.co.kr/zboard/zboard.php?id=ppomppu&page=1&divpage=87'\n",
    "driver.get(url=URL)"
   ]
  },
  {
   "cell_type": "code",
   "execution_count": 64,
   "id": "7ceb0afc-6902-4f26-b0ed-664f43b30a41",
   "metadata": {},
   "outputs": [
    {
     "name": "stdout",
     "output_type": "stream",
     "text": [
      "https://www.ppomppu.co.kr/zboard/view.php?id=ppomppu&page=1&divpage=87&no=515012\n",
      "https://www.ppomppu.co.kr/zboard/view.php?id=ppomppu&page=1&divpage=87&no=515011\n",
      "https://www.ppomppu.co.kr/zboard/view.php?id=ppomppu&page=1&divpage=87&no=515009\n",
      "https://www.ppomppu.co.kr/zboard/view.php?id=ppomppu&page=1&divpage=87&no=515008\n",
      "https://www.ppomppu.co.kr/zboard/view.php?id=ppomppu&page=1&divpage=87&no=515007\n",
      "https://www.ppomppu.co.kr/zboard/view.php?id=ppomppu&page=1&divpage=87&no=515006\n",
      "https://www.ppomppu.co.kr/zboard/view.php?id=ppomppu&page=1&divpage=87&no=515004\n",
      "https://www.ppomppu.co.kr/zboard/view.php?id=ppomppu&page=1&divpage=87&no=515003\n",
      "https://www.ppomppu.co.kr/zboard/view.php?id=ppomppu&page=1&divpage=87&no=515002\n",
      "https://www.ppomppu.co.kr/zboard/view.php?id=ppomppu&page=1&divpage=87&no=515001\n",
      "https://www.ppomppu.co.kr/zboard/view.php?id=ppomppu&page=1&divpage=87&no=515000\n",
      "https://www.ppomppu.co.kr/zboard/view.php?id=ppomppu&page=1&divpage=87&no=514999\n",
      "https://www.ppomppu.co.kr/zboard/view.php?id=ppomppu&page=1&divpage=87&no=514998\n",
      "https://www.ppomppu.co.kr/zboard/view.php?id=ppomppu&page=1&divpage=87&no=514997\n",
      "https://www.ppomppu.co.kr/zboard/view.php?id=ppomppu&page=1&divpage=87&no=514996\n",
      "https://www.ppomppu.co.kr/zboard/view.php?id=ppomppu&page=1&divpage=87&no=514995\n",
      "https://www.ppomppu.co.kr/zboard/view.php?id=ppomppu&page=1&divpage=87&no=514994\n",
      "https://www.ppomppu.co.kr/zboard/view.php?id=ppomppu&page=1&divpage=87&no=514993\n",
      "https://www.ppomppu.co.kr/zboard/view.php?id=ppomppu&page=1&divpage=87&no=514992\n",
      "https://www.ppomppu.co.kr/zboard/view.php?id=ppomppu&page=1&divpage=87&no=514990\n",
      "https://www.ppomppu.co.kr/zboard/view.php?id=pmarket&&no=289855\n",
      "https://www.ppomppu.co.kr/zboard/view.php?id=pmarket&&no=289851\n",
      "https://www.ppomppu.co.kr/zboard/view.php?id=pmarket&&no=289844\n",
      "https://www.ppomppu.co.kr/zboard/view.php?id=pmarket&&no=289833\n",
      "https://www.ppomppu.co.kr/zboard/view.php?id=pmarket&&no=289841\n",
      "https://www.ppomppu.co.kr/hotdeal/?no=29677836\n",
      "https://www.ppomppu.co.kr/zboard/view.php?id=social&no=39834\n",
      "https://www.ppomppu.co.kr/zboard/view.php?id=social&no=39833\n",
      "https://www.ppomppu.co.kr/zboard/view.php?id=social&no=39832\n"
     ]
    }
   ],
   "source": [
    "import pandas as pd\n",
    "n=1\n",
    "URL=f'https://www.ppomppu.co.kr/zboard/zboard.php?id=ppomppu&page={n}&divpage=87'\n",
    "driver.get(url=URL)\n",
    "title_result=driver.find_elements(By.CSS_SELECTOR, '#revolution_main_table > tbody > tr > td:nth-child(3) > table > tbody > tr > td:nth-child(2) > div > a')\n",
    "title_list=[]\n",
    "df=None\n",
    "for i in title_result:\n",
    "    print(i.get_attribute('href'))"
   ]
  },
  {
   "cell_type": "code",
   "execution_count": 69,
   "id": "bcd9d904-9411-4b0a-94bf-48bfd01cd7dc",
   "metadata": {},
   "outputs": [],
   "source": [
    "for i in range(1,11):\n",
    "    URL=f'https://www.ppomppu.co.kr/zboard/zboard.php?id=ppomppu&page={n}&divpage=87'\n",
    "    driver.get(url=URL)\n",
    "    title_result=driver.find_elements(By.CSS_SELECTOR, '#revolution_main_table > tbody > tr > td:nth-child(3) > table > tbody > tr > td:nth-child(2) > div > a > font')\n",
    "    url_result=driver.find_elements(By.CSS_SELECTOR,'#revolution_main_table > tbody > tr > td:nth-child(3) > table > tbody > tr > td:nth-child(2) > div > a')\n",
    "    title_list=[]\n",
    "    url_list=[]\n",
    "    df=None\n",
    "    for x,y in zip(title_result,url_result):\n",
    "        title_list.append(x.text)\n",
    "        url_list.append(y.get_attribute('href'))\n",
    "        data=pd.DataFrame(url_list,title_list)\n",
    "        df=pd.concat([df,data])"
   ]
  },
  {
   "cell_type": "code",
   "execution_count": 72,
   "id": "dd4f2f15-8b3d-47f1-9ac0-76c903d63ca4",
   "metadata": {},
   "outputs": [
    {
     "data": {
      "text/html": [
       "<div>\n",
       "<style scoped>\n",
       "    .dataframe tbody tr th:only-of-type {\n",
       "        vertical-align: middle;\n",
       "    }\n",
       "\n",
       "    .dataframe tbody tr th {\n",
       "        vertical-align: top;\n",
       "    }\n",
       "\n",
       "    .dataframe thead th {\n",
       "        text-align: right;\n",
       "    }\n",
       "</style>\n",
       "<table border=\"1\" class=\"dataframe\">\n",
       "  <thead>\n",
       "    <tr style=\"text-align: right;\">\n",
       "      <th></th>\n",
       "      <th>0</th>\n",
       "    </tr>\n",
       "  </thead>\n",
       "  <tbody>\n",
       "    <tr>\n",
       "      <th>[위메프] 천일 사누끼우동 면10봉+소스10봉+건더기10봉 개별포장 (10,820/무료)</th>\n",
       "      <td>https://www.ppomppu.co.kr/zboard/view.php?id=p...</td>\n",
       "    </tr>\n",
       "    <tr>\n",
       "      <th>[위메프] 천일 사누끼우동 면10봉+소스10봉+건더기10봉 개별포장 (10,820/무료)</th>\n",
       "      <td>https://www.ppomppu.co.kr/zboard/view.php?id=p...</td>\n",
       "    </tr>\n",
       "    <tr>\n",
       "      <th>한우자조금 온라인한우장터 등심600g 1++ 56,880 1+ 45,780 1등급 38,700 (4000) 20만 이상 무배</th>\n",
       "      <td>https://www.ppomppu.co.kr/zboard/view.php?id=p...</td>\n",
       "    </tr>\n",
       "    <tr>\n",
       "      <th>[위메프] 천일 사누끼우동 면10봉+소스10봉+건더기10봉 개별포장 (10,820/무료)</th>\n",
       "      <td>https://www.ppomppu.co.kr/zboard/view.php?id=p...</td>\n",
       "    </tr>\n",
       "    <tr>\n",
       "      <th>한우자조금 온라인한우장터 등심600g 1++ 56,880 1+ 45,780 1등급 38,700 (4000) 20만 이상 무배</th>\n",
       "      <td>https://www.ppomppu.co.kr/zboard/view.php?id=p...</td>\n",
       "    </tr>\n",
       "    <tr>\n",
       "      <th>...</th>\n",
       "      <td>...</td>\n",
       "    </tr>\n",
       "    <tr>\n",
       "      <th>[11번가] 라이브 특가 2024 LG그램15 최대70만 할인과 사은품증정!</th>\n",
       "      <td>https://www.ppomppu.co.kr/zboard/view.php?id=p...</td>\n",
       "    </tr>\n",
       "    <tr>\n",
       "      <th>삼성전자 패밀리 냉동고 ZRS25LSLH (247L) (570,000원)</th>\n",
       "      <td>https://www.ppomppu.co.kr/hotdeal/?no=29642493</td>\n",
       "    </tr>\n",
       "    <tr>\n",
       "      <th>GS25에 2억 5천짜리 위스키를 팝니다ㅋㅋ</th>\n",
       "      <td>https://www.ppomppu.co.kr/zboard/view.php?id=s...</td>\n",
       "    </tr>\n",
       "    <tr>\n",
       "      <th>펩시제로 슈거 라임 355ML 24캔 특가 하네요</th>\n",
       "      <td>https://www.ppomppu.co.kr/zboard/view.php?id=s...</td>\n",
       "    </tr>\n",
       "    <tr>\n",
       "      <th>동원몰 3만원이상 5천원 할인 제휴쿠폰 다 오류나네요.</th>\n",
       "      <td>https://www.ppomppu.co.kr/zboard/view.php?id=s...</td>\n",
       "    </tr>\n",
       "  </tbody>\n",
       "</table>\n",
       "<p>435 rows × 1 columns</p>\n",
       "</div>"
      ],
      "text/plain": [
       "                                                                                                    0\n",
       "[위메프] 천일 사누끼우동 면10봉+소스10봉+건더기10봉 개별포장 (10,820/무료)   https://www.ppomppu.co.kr/zboard/view.php?id=p...\n",
       "[위메프] 천일 사누끼우동 면10봉+소스10봉+건더기10봉 개별포장 (10,820/무료)   https://www.ppomppu.co.kr/zboard/view.php?id=p...\n",
       "한우자조금 온라인한우장터 등심600g 1++ 56,880 1+ 45,780 1등급 3...  https://www.ppomppu.co.kr/zboard/view.php?id=p...\n",
       "[위메프] 천일 사누끼우동 면10봉+소스10봉+건더기10봉 개별포장 (10,820/무료)   https://www.ppomppu.co.kr/zboard/view.php?id=p...\n",
       "한우자조금 온라인한우장터 등심600g 1++ 56,880 1+ 45,780 1등급 3...  https://www.ppomppu.co.kr/zboard/view.php?id=p...\n",
       "...                                                                                               ...\n",
       "[11번가] 라이브 특가 2024 LG그램15 최대70만 할인과 사은품증정!          https://www.ppomppu.co.kr/zboard/view.php?id=p...\n",
       "삼성전자 패밀리 냉동고 ZRS25LSLH (247L) (570,000원)               https://www.ppomppu.co.kr/hotdeal/?no=29642493\n",
       "GS25에 2억 5천짜리 위스키를 팝니다ㅋㅋ                            https://www.ppomppu.co.kr/zboard/view.php?id=s...\n",
       "펩시제로 슈거 라임 355ML 24캔 특가 하네요                         https://www.ppomppu.co.kr/zboard/view.php?id=s...\n",
       "동원몰 3만원이상 5천원 할인 제휴쿠폰 다 오류나네요.                      https://www.ppomppu.co.kr/zboard/view.php?id=s...\n",
       "\n",
       "[435 rows x 1 columns]"
      ]
     },
     "execution_count": 72,
     "metadata": {},
     "output_type": "execute_result"
    }
   ],
   "source": [
    "df"
   ]
  },
  {
   "cell_type": "code",
   "execution_count": 73,
   "id": "960c9585-0702-412a-bc14-14ce304cf6f4",
   "metadata": {},
   "outputs": [
    {
     "name": "stdout",
     "output_type": "stream",
     "text": [
      "https://www.ppomppu.co.kr/zboard/zboard.php?id=ppomppu&page=2&divpage=85\n",
      "https://www.ppomppu.co.kr/zboard/zboard.php?id=ppomppu&page=3&divpage=85\n",
      "https://www.ppomppu.co.kr/zboard/zboard.php?id=ppomppu&page=4&divpage=85\n",
      "https://www.ppomppu.co.kr/zboard/zboard.php?id=ppomppu&page=5&divpage=85\n",
      "https://www.ppomppu.co.kr/zboard/zboard.php?id=ppomppu&page=6&divpage=85\n",
      "https://www.ppomppu.co.kr/zboard/zboard.php?id=ppomppu&page=7&divpage=85\n",
      "https://www.ppomppu.co.kr/zboard/zboard.php?id=ppomppu&page=8&divpage=85\n",
      "https://www.ppomppu.co.kr/zboard/zboard.php?id=ppomppu&page=9&divpage=85\n"
     ]
    }
   ],
   "source": [
    "from selenium import webdriver\n",
    "from selenium.webdriver.chrome.service import Service\n",
    "from selenium.webdriver.common.by import By\n",
    "import pandas as pd\n",
    "import time\n",
    "import random\n",
    "\n",
    "def page1_crawling(driver):\n",
    "    titles = []\n",
    "    urls = []\n",
    "    start_num = 9\n",
    "    end_num = 47\n",
    "    for i in range(start_num, end_num + 1, 2):\n",
    "        title_css_path = '#revolution_main_table > tbody > tr:nth-child(' + str(i) + ') > td:nth-child(3) > table > tbody > tr > td:nth-child(2) > div > a > font'\n",
    "        titles.append(driver.find_element(By.CSS_SELECTOR, title_css_path).text)\n",
    "        \n",
    "        url_css_path = '#revolution_main_table > tbody > tr:nth-child(' + str(i) + ') > td:nth-child(3) > table > tbody > tr > td:nth-child(2) > div > a'\n",
    "        urls.append(driver.find_element(By.CSS_SELECTOR, url_css_path).get_attribute('href'))\n",
    "\n",
    "    return pd.DataFrame({\"title\": titles, \"urls\": urls})\n",
    "\n",
    "def other_crawling(driver):\n",
    "    titles = []\n",
    "    urls = []\n",
    "    start_num = 6\n",
    "    end_num = 44\n",
    "    #revolution_main_table > tbody > tr:nth-child(6) > td:nth-child(3) > table > tbody > tr > td:nth-child(2) > div > a > font\n",
    "    #revolution_main_table > tbody > tr:nth-child(8) > td:nth-child(3) > table > tbody > tr > td:nth-child(2) > div > a > font\n",
    "    #revolution_main_table > tbody > tr:nth-child(44) > td:nth-child(3) > table > tbody > tr > td:nth-child(2) > div > a > font\n",
    "    for i in range(start_num, end_num + 1, 2):\n",
    "        title_css_path = '#revolution_main_table > tbody > tr:nth-child(' + str(i) + ') > td:nth-child(3) > table > tbody > tr > td:nth-child(2) > div > a > font'\n",
    "        titles.append(driver.find_element(By.CSS_SELECTOR, title_css_path).text)\n",
    "        \n",
    "        url_css_path = '#revolution_main_table > tbody > tr:nth-child(' + str(i) + ') > td:nth-child(3) > table > tbody > tr > td:nth-child(2) > div > a'\n",
    "        urls.append(driver.find_element(By.CSS_SELECTOR, url_css_path).get_attribute('href'))\n",
    "\n",
    "    return pd.DataFrame({\"title\": titles, \"urls\": urls})\n",
    "\n",
    "def main():\n",
    "    CHROME_DRIVER_PATH = './drivers/chromedriver.exe'\n",
    "    service = Service(executable_path=CHROME_DRIVER_PATH)\n",
    "    options = webdriver.ChromeOptions()\n",
    "    driver = webdriver.Chrome(service=service, options=options)\n",
    "\n",
    "    URL = 'https://www.ppomppu.co.kr/zboard/zboard.php?id=ppomppu&page=1&divpage=85'\n",
    "    driver.get(url=URL)\n",
    "    df = page1_crawling(driver)\n",
    "    for i in range(2, 10):\n",
    "        URL = 'https://www.ppomppu.co.kr/zboard/zboard.php?id=ppomppu&page='+ str(i) + '&divpage=85'\n",
    "        print(URL)\n",
    "        driver.get(url=URL)\n",
    "        df = pd.concat([df, other_crawling(driver)], ignore_index=True)\n",
    "        time.sleep(random.uniform(2, 5))   # 2 ~ 5초 무작위로 설정\n",
    "        \n",
    "    df.to_csv(\"핫딜.csv\", index=False)\n",
    "    driver.quit()\n",
    "    \n",
    "if __name__ == \"__main__\":\n",
    "    main()"
   ]
  },
  {
   "cell_type": "code",
   "execution_count": null,
   "id": "31f855c1-ed3f-4e64-aa0e-dbde4610674d",
   "metadata": {},
   "outputs": [],
   "source": []
  }
 ],
 "metadata": {
  "kernelspec": {
   "display_name": "Python 3 (ipykernel)",
   "language": "python",
   "name": "python3"
  },
  "language_info": {
   "codemirror_mode": {
    "name": "ipython",
    "version": 3
   },
   "file_extension": ".py",
   "mimetype": "text/x-python",
   "name": "python",
   "nbconvert_exporter": "python",
   "pygments_lexer": "ipython3",
   "version": "3.11.5"
  }
 },
 "nbformat": 4,
 "nbformat_minor": 5
}
