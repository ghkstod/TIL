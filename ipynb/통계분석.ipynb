{
 "cells": [
  {
   "cell_type": "markdown",
   "id": "eefe0307-faf8-4a13-ac84-8d18824ae07b",
   "metadata": {},
   "source": [
    "## 현재 상황\n",
    "- 편의점 감자튀김 (무게 130g으로 알려져있음)\n",
    "- 학생이 무게 하나 측정, 122.02g으로 나옴\n",
    "- 2주간 매우 감자튀김의 무게를 측정\n",
    "  + 14개의 표본의 평균을 계산했는데 128.451g -> 편의점에 컴플레인\n",
    "  + 편의점 입장은 그저 우연이다\n",
    "- 14개 표본의 평균이 128.451g으로 나온 건 정말 우연일까?"
   ]
  },
  {
   "cell_type": "markdown",
   "id": "7ed1341f-41fd-4d4d-a5fc-3dfae43a3fbe",
   "metadata": {},
   "source": [
    "### 질문\n",
    "- 어떤 통계 검정을 사용해야 하는가?\n",
    "- 귀무가설과 대립가설을 설정하라"
   ]
  },
  {
   "cell_type": "code",
   "execution_count": 1,
   "id": "147a32f4-b714-40ac-ae7e-1a14037dc102",
   "metadata": {},
   "outputs": [],
   "source": [
    "import numpy as np\n",
    "import pandas as pd\n",
    "from scipy import stats"
   ]
  },
  {
   "cell_type": "code",
   "execution_count": 2,
   "id": "03352187-efbf-4b6b-ac8b-e914fc43c374",
   "metadata": {},
   "outputs": [
    {
     "data": {
      "text/plain": [
       "'1.11.4'"
      ]
     },
     "execution_count": 2,
     "metadata": {},
     "output_type": "execute_result"
    }
   ],
   "source": [
    "import scipy \n",
    "scipy.__version__"
   ]
  },
  {
   "cell_type": "code",
   "execution_count": 3,
   "id": "3bcd14ee-1937-46ab-bac8-1a9d7d57d612",
   "metadata": {},
   "outputs": [
    {
     "data": {
      "text/plain": [
       "array([122.02, 131.73, 130.6 , 131.82, 132.05, 126.12, 124.43, 132.89,\n",
       "       122.79, 129.95, 126.14, 134.45, 127.64, 125.68])"
      ]
     },
     "execution_count": 3,
     "metadata": {},
     "output_type": "execute_result"
    }
   ],
   "source": [
    "df=pd.read_csv('data/ch11_potato.csv')\n",
    "sample=np.array(df['무게'])\n",
    "sample"
   ]
  },
  {
   "cell_type": "code",
   "execution_count": 4,
   "id": "a2ed4552-b60b-48fe-8645-bd14f5359a01",
   "metadata": {},
   "outputs": [
    {
     "data": {
      "text/plain": [
       "128.4507142857143"
      ]
     },
     "execution_count": 4,
     "metadata": {},
     "output_type": "execute_result"
    }
   ],
   "source": [
    "# 표본평균\n",
    "s_mean=np.mean(sample)\n",
    "s_mean"
   ]
  },
  {
   "cell_type": "markdown",
   "id": "a4f7b43f-1289-421c-af9b-0a7ee66971ce",
   "metadata": {},
   "source": [
    "### A학생의 관심\n",
    "- 표본평균이 모평균 130보다 작은지 여부\n",
    "- 여기서 감자튀김의 표본집단이 따르고 있다 --> 정규성 검정을 할 필요가 있는가?\n",
    "  + 정규성 검정없이 모수 검정을 하면 된다,\n",
    "- 모분산이 9임을 알고 있다고 전제한다"
   ]
  },
  {
   "cell_type": "code",
   "execution_count": 5,
   "id": "bf2af4b3-ba1f-436e-8668-f3d3ee8bf7d4",
   "metadata": {},
   "outputs": [
    {
     "data": {
      "text/plain": [
       "128.68118313069039"
      ]
     },
     "execution_count": 5,
     "metadata": {},
     "output_type": "execute_result"
    }
   ],
   "source": [
    "rv=stats.norm(130,np.sqrt(9/14))\n",
    "rv.isf(0.95) #유의수준 5%에서 128.681의 값은 귀무가설을 기각할 수 있다. 하지만 표본이 너무 적다"
   ]
  },
  {
   "cell_type": "code",
   "execution_count": 6,
   "id": "6e1b880c-533f-4a83-8cd5-5ee430a34586",
   "metadata": {},
   "outputs": [
    {
     "data": {
      "text/plain": [
       "129.0990765647245"
      ]
     },
     "execution_count": 6,
     "metadata": {},
     "output_type": "execute_result"
    }
   ],
   "source": [
    "rv=stats.norm(130,np.sqrt(9/30))\n",
    "rv.isf(0.95)"
   ]
  },
  {
   "cell_type": "code",
   "execution_count": 7,
   "id": "49b5b6ca-5be3-4df3-aa1d-6e4ddc3e3fe2",
   "metadata": {},
   "outputs": [
    {
     "data": {
      "text/plain": [
       "-1.932298779026813"
      ]
     },
     "execution_count": 7,
     "metadata": {},
     "output_type": "execute_result"
    }
   ],
   "source": [
    "#모평균 130\n",
    "z= (s_mean-130)/np.sqrt(9/14)\n",
    "z"
   ]
  },
  {
   "cell_type": "code",
   "execution_count": 8,
   "id": "a49c8c22-63f1-4e4a-a370-2b52e091aff9",
   "metadata": {},
   "outputs": [
    {
     "data": {
      "text/plain": [
       "-1.6448536269514722"
      ]
     },
     "execution_count": 8,
     "metadata": {},
     "output_type": "execute_result"
    }
   ],
   "source": [
    "#검정 통계량에 관한 임계값 구하기\n",
    "rv=stats.norm()\n",
    "rv.isf(0.95)"
   ]
  },
  {
   "cell_type": "code",
   "execution_count": 9,
   "id": "6a0266f1-8347-47c5-8d3f-7d4804f414cb",
   "metadata": {},
   "outputs": [
    {
     "data": {
      "text/plain": [
       "-1.6448536269514722"
      ]
     },
     "execution_count": 9,
     "metadata": {},
     "output_type": "execute_result"
    }
   ],
   "source": [
    "z= (s_mean-130)/np.sqrt(9/30)\n",
    "rv=stats.norm()\n",
    "rv.isf(0.95)"
   ]
  },
  {
   "cell_type": "code",
   "execution_count": 10,
   "id": "9ca4893d-403f-4edd-a228-bafaac6f5603",
   "metadata": {},
   "outputs": [
    {
     "data": {
      "text/plain": [
       "0.0023376354467074096"
      ]
     },
     "execution_count": 10,
     "metadata": {},
     "output_type": "execute_result"
    }
   ],
   "source": [
    "rv.cdf(z) # p-value 귀무가설을 기각할 수 있다."
   ]
  },
  {
   "cell_type": "code",
   "execution_count": 11,
   "id": "c3f37ad2-95ca-4554-a034-41114bcdffec",
   "metadata": {},
   "outputs": [
    {
     "data": {
      "text/plain": [
       "(-1.959963984540054, 1.959963984540054)"
      ]
     },
     "execution_count": 11,
     "metadata": {},
     "output_type": "execute_result"
    }
   ],
   "source": [
    "#양측검정\n",
    "z=(s_mean-130)/np.sqrt(9/14)\n",
    "rv=stats.norm()\n",
    "rv.interval(0.95)"
   ]
  },
  {
   "cell_type": "code",
   "execution_count": 12,
   "id": "ec739d71-8c8c-4aa0-b284-0b42affbc04d",
   "metadata": {},
   "outputs": [],
   "source": [
    "%precision 3\n",
    "np.random.seed(1111)"
   ]
  },
  {
   "cell_type": "code",
   "execution_count": 13,
   "id": "3bfccbc6-4c77-411f-83d4-f7f57fba2e7e",
   "metadata": {},
   "outputs": [
    {
     "data": {
      "text/plain": [
       "0.053"
      ]
     },
     "execution_count": 13,
     "metadata": {},
     "output_type": "execute_result"
    }
   ],
   "source": [
    "rv.cdf(z)*2 #p-value 귀무가설 채택"
   ]
  },
  {
   "cell_type": "markdown",
   "id": "ccc4937b-19aa-4583-8f4b-6f72068f0a47",
   "metadata": {},
   "source": [
    "## 가설검정의 오류 2가지\n",
    "- 1종 오류: 귀무가설이 옳을 때 귀무가설을 기각하는 오류\n",
    "- 2종 오류: 대립가설이 옳을 때 귀무가설을 채택하는 오류"
   ]
  },
  {
   "cell_type": "markdown",
   "id": "d47f3bf5-2980-4615-a044-df2f30a5c884",
   "metadata": {},
   "source": [
    "### 제 1종 오류\n",
    "- 실제로 평균이 130g인데도 불구하고 평균은 130보다 작다고 결론을 내리는 경우\n",
    "- False Postive"
   ]
  },
  {
   "cell_type": "code",
   "execution_count": 14,
   "id": "4064d109-753b-4766-b0d1-fe3a83a9c87d",
   "metadata": {},
   "outputs": [
    {
     "data": {
      "text/plain": [
       "0.053"
      ]
     },
     "execution_count": 14,
     "metadata": {},
     "output_type": "execute_result"
    }
   ],
   "source": [
    "rv=stats.norm(130,3)\n",
    "c=stats.norm().isf(0.95)\n",
    "n_samples = 10000\n",
    "cnt = 0\n",
    "for _ in range(n_samples):\n",
    "    sample_ = np.round(rv.rvs(14), 2)\n",
    "    s_mean_ = np.mean(sample_)\n",
    "    z = (s_mean_ - 130) / np.sqrt(9/14)\n",
    "    if z < c:\n",
    "        cnt += 1\n",
    "cnt / n_samples"
   ]
  },
  {
   "cell_type": "markdown",
   "id": "f2a7b1f1-4219-45c8-bc1a-5bbedb4c6e96",
   "metadata": {},
   "source": [
    "- 1종 오류를 범할 비율은 0.053/ 약 5%의 비율로 130g보다 작다라고 잘못 탐지하는 것과 같다.\n",
    "- 1종 오류를 범할 확률은 위험률\n",
    "- 좀 더 엄격하게 적용하고 싶다고 하면 유의수준 1%에서 가설검정을 수행"
   ]
  },
  {
   "cell_type": "markdown",
   "id": "dffa6853-9210-40fa-944f-46eee8172906",
   "metadata": {},
   "source": [
    "## 제 2종 오류\n",
    "- 실제로 표본평균이 130g보다 작음에도 불구하고 표본평균이 130g보다 작다라는 결론을 얻을 수 없는 상황\n",
    "- 본래 검출해야 하는 것을 검출하지 못했으므로 미탐 false nagative"
   ]
  },
  {
   "cell_type": "code",
   "execution_count": 15,
   "id": "f24d09b4-cd53-41be-b2a5-87df627be817",
   "metadata": {},
   "outputs": [],
   "source": [
    "rv = stats.norm(128, 3)"
   ]
  },
  {
   "cell_type": "code",
   "execution_count": 16,
   "id": "2ef07e24-ab1e-4502-966e-218021ea7f28",
   "metadata": {},
   "outputs": [
    {
     "data": {
      "text/plain": [
       "0.197"
      ]
     },
     "execution_count": 16,
     "metadata": {},
     "output_type": "execute_result"
    }
   ],
   "source": [
    "rv = stats.norm(128, 3)\n",
    "c = stats.norm().isf(0.95)\n",
    "n_samples = 10000\n",
    "cnt = 0\n",
    "for _ in range(n_samples):\n",
    "    sample_ = np.round(rv.rvs(14), 2)\n",
    "    s_mean_ = np.mean(sample_)\n",
    "    z = (s_mean_ - 130) / np.sqrt(9/14)\n",
    "    if z >= c:\n",
    "        cnt += 1\n",
    "        \n",
    "cnt / n_samples"
   ]
  },
  {
   "cell_type": "markdown",
   "id": "ee0c081a-64c3-45c0-806c-d6b2435d27d0",
   "metadata": {},
   "source": [
    "- 0.199의 의미는 검정력 / 제대로 탐지하지 못할 확률이 약 20%\n",
    "- 2종 오류는 언제나 모집단의 정보에 의존한다.\n",
    "  + 중요한 포인트는 분석가는 모집단의 구체적인 정보를 알 방법이 없다.\n",
    "  + 2종 오류는 컨트롤이 불가하다."
   ]
  },
  {
   "cell_type": "markdown",
   "id": "3d0bb940-3e03-44d4-a0a7-b30634b5fd6e",
   "metadata": {},
   "source": [
    "### 모분산을 안다고 가정했을 때\n",
    "- 현실적으로 모집단을 아는 것은 불가능\n",
    "  + 건강보험과 통계 / 전국민 데이터가 있는 자료\n",
    "- 모분산을 알고 있다는 뜻은 모집단을 알고 있다 -> 모쳥균도 구할 수 있음 -> 모평균에 대한 검정을 굳이 할 필요가 있나?"
   ]
  },
  {
   "cell_type": "code",
   "execution_count": 17,
   "id": "c9c467ca-615f-4f00-ac28-3a547afd5810",
   "metadata": {},
   "outputs": [],
   "source": [
    "def pmean_test(sample, mean0, alpha=0.05):\n",
    "    s_mean = np.mean(sample)\n",
    "    u_var = np.var(sample, ddof=1)\n",
    "    n = len(sample)\n",
    "    rv = stats.t(df=n-1)\n",
    "    interval = rv.interval(1-alpha)\n",
    "\n",
    "    t = (s_mean - mean0) / np.sqrt(u_var/n)\n",
    "    print(f't통계량 값:{t:.3f}')\n",
    "    if interval[0] <= t <= interval[1]:\n",
    "        print('귀무가설을 채택')\n",
    "    else:\n",
    "        print('귀무가설을 기각')\n",
    "\n",
    "    if t < 0:\n",
    "        p = rv.cdf(t) * 2\n",
    "    else:\n",
    "        p = (1 - rv.cdf(t)) * 2\n",
    "    print(f'p값은 {p:.3f}')"
   ]
  },
  {
   "cell_type": "code",
   "execution_count": 18,
   "id": "9beb3b6e-890e-4fae-b96c-632bb03134e9",
   "metadata": {},
   "outputs": [
    {
     "name": "stdout",
     "output_type": "stream",
     "text": [
      "t통계량 값:-1.455\n",
      "귀무가설을 채택\n",
      "p값은 0.169\n"
     ]
    }
   ],
   "source": [
    "pmean_test(sample,130)"
   ]
  },
  {
   "cell_type": "markdown",
   "id": "24c7cd36-0827-4ccc-8ed9-23fe3f698039",
   "metadata": {},
   "source": [
    "### 대응표본 t-검정\n",
    "- A 학생은 친구20명에게 1주일간 근력 운동을 하게함\n",
    "- 운동 전후에 집중력을 측정하는 테스트를 받게됨\n",
    "- 가설검정\n",
    "  + H0:운동 전과 후의 집중력의 평균차이는 없다\n",
    "  + H1:운동 전과 후의 집중력의 평균차이는 있다"
   ]
  },
  {
   "cell_type": "code",
   "execution_count": 19,
   "id": "a2ee92e5-2970-4496-8e91-989ee6906323",
   "metadata": {},
   "outputs": [],
   "source": [
    "training_rel=pd.read_csv('data/ch11_training_rel.csv')\n",
    "training_rel['차']=training_rel['전']-training_rel['후']"
   ]
  },
  {
   "cell_type": "code",
   "execution_count": 28,
   "id": "43d124cb-39ea-4407-ba0d-e7e19a9bb1e6",
   "metadata": {},
   "outputs": [
    {
     "data": {
      "text/plain": [
       "0.040"
      ]
     },
     "execution_count": 28,
     "metadata": {},
     "output_type": "execute_result"
    }
   ],
   "source": [
    "from scipy import stats\n",
    "t, p=stats.ttest_1samp(training_rel['차'],0)\n",
    "p #p-value"
   ]
  },
  {
   "cell_type": "markdown",
   "id": "0587d862-e9e3-458f-8265-4b99f6631234",
   "metadata": {},
   "source": [
    "## 독랍검정 t-검정\n",
    "- 학생이 늘음\n",
    "  + A학생 그룹은 인문계열\n",
    "  + B학생 그룹은 체육계열\n",
    "- A그룹, B그룹 사이에 집중력 테스트의 평균에서 차이가 나지 않을까 생각하여 테스트함\n",
    "- 이 데이터로부터 어떤 검정을 수행해야 A학생과 B학생 학급의 집중력에 유의미한 차이가 있는지 확인\n",
    "- 가정설정\n",
    "  + H0:그룹사이의 집중력의 평균차이는 없다\r",
    "  + \n",
    "H1:그룹사이의 집중력의 평균차이는 있\n",
    " \n",
    "- 독립비교 t-검정 두가지 가정\n",
    "  + 1) 각 그룹의 데이터의 정규성을 검정\n",
    "  + 2) 두 그룹의 분산이 같다 (=등분산성 검정)다"
   ]
  },
  {
   "cell_type": "code",
   "execution_count": 30,
   "id": "66140b5b-4cf0-4bf4-8441-5425e21fce0a",
   "metadata": {},
   "outputs": [
    {
     "data": {
      "text/html": [
       "<div>\n",
       "<style scoped>\n",
       "    .dataframe tbody tr th:only-of-type {\n",
       "        vertical-align: middle;\n",
       "    }\n",
       "\n",
       "    .dataframe tbody tr th {\n",
       "        vertical-align: top;\n",
       "    }\n",
       "\n",
       "    .dataframe thead th {\n",
       "        text-align: right;\n",
       "    }\n",
       "</style>\n",
       "<table border=\"1\" class=\"dataframe\">\n",
       "  <thead>\n",
       "    <tr style=\"text-align: right;\">\n",
       "      <th></th>\n",
       "      <th>A</th>\n",
       "      <th>B</th>\n",
       "    </tr>\n",
       "  </thead>\n",
       "  <tbody>\n",
       "    <tr>\n",
       "      <th>0</th>\n",
       "      <td>47</td>\n",
       "      <td>49</td>\n",
       "    </tr>\n",
       "    <tr>\n",
       "      <th>1</th>\n",
       "      <td>50</td>\n",
       "      <td>52</td>\n",
       "    </tr>\n",
       "    <tr>\n",
       "      <th>2</th>\n",
       "      <td>37</td>\n",
       "      <td>54</td>\n",
       "    </tr>\n",
       "    <tr>\n",
       "      <th>3</th>\n",
       "      <td>60</td>\n",
       "      <td>48</td>\n",
       "    </tr>\n",
       "    <tr>\n",
       "      <th>4</th>\n",
       "      <td>39</td>\n",
       "      <td>51</td>\n",
       "    </tr>\n",
       "  </tbody>\n",
       "</table>\n",
       "</div>"
      ],
      "text/plain": [
       "    A   B\n",
       "0  47  49\n",
       "1  50  52\n",
       "2  37  54\n",
       "3  60  48\n",
       "4  39  51"
      ]
     },
     "execution_count": 30,
     "metadata": {},
     "output_type": "execute_result"
    }
   ],
   "source": [
    "training_ind=pd.read_csv('data/ch11_training_ind.csv')\n",
    "training_ind.head()"
   ]
  },
  {
   "cell_type": "markdown",
   "id": "580fc28c-7131-409a-804c-7e9d9091522a",
   "metadata": {},
   "source": [
    "- H0:그룹사이의 집중력의 평균차이는 없다\r",
    "- \n",
    "H1:그룹사이의 집중력의 평균차이는 있다"
   ]
  },
  {
   "cell_type": "code",
   "execution_count": 33,
   "id": "446925d4-e701-439e-b071-e1ce43bd7de8",
   "metadata": {},
   "outputs": [
    {
     "data": {
      "text/plain": [
       "(-1.761, 0.086)"
      ]
     },
     "execution_count": 33,
     "metadata": {},
     "output_type": "execute_result"
    }
   ],
   "source": [
    "t, p=stats.ttest_ind(training_ind['A'],training_ind['B'],equal_var=True)\n",
    "t, p #p-value의 값이 0.05보다 크기때문에 귀무가설 기각"
   ]
  },
  {
   "cell_type": "markdown",
   "id": "fb2d36d8-453b-4516-8b37-c5082401bf87",
   "metadata": {},
   "source": [
    "## 비모수 검정\n",
    "- 모수 검정에서 각 가정을 만족시키지 못할 때, 비모수검정을 사용\n",
    "\n",
    "## 윌콕슨의 부호순위검정\n",
    "- 평균의 차이가 아님\n",
    "- 중앙값 차이에 대한 검정"
   ]
  },
  {
   "cell_type": "code",
   "execution_count": 34,
   "id": "2a9f9122-4209-4d83-a4b7-ec52cfc14872",
   "metadata": {},
   "outputs": [
    {
     "data": {
      "text/html": [
       "<div>\n",
       "<style scoped>\n",
       "    .dataframe tbody tr th:only-of-type {\n",
       "        vertical-align: middle;\n",
       "    }\n",
       "\n",
       "    .dataframe tbody tr th {\n",
       "        vertical-align: top;\n",
       "    }\n",
       "\n",
       "    .dataframe thead th {\n",
       "        text-align: right;\n",
       "    }\n",
       "</style>\n",
       "<table border=\"1\" class=\"dataframe\">\n",
       "  <thead>\n",
       "    <tr style=\"text-align: right;\">\n",
       "      <th></th>\n",
       "      <th>전</th>\n",
       "      <th>후</th>\n",
       "    </tr>\n",
       "  </thead>\n",
       "  <tbody>\n",
       "    <tr>\n",
       "      <th>0</th>\n",
       "      <td>59</td>\n",
       "      <td>41</td>\n",
       "    </tr>\n",
       "    <tr>\n",
       "      <th>1</th>\n",
       "      <td>52</td>\n",
       "      <td>63</td>\n",
       "    </tr>\n",
       "    <tr>\n",
       "      <th>2</th>\n",
       "      <td>55</td>\n",
       "      <td>68</td>\n",
       "    </tr>\n",
       "    <tr>\n",
       "      <th>3</th>\n",
       "      <td>61</td>\n",
       "      <td>59</td>\n",
       "    </tr>\n",
       "    <tr>\n",
       "      <th>4</th>\n",
       "      <td>59</td>\n",
       "      <td>84</td>\n",
       "    </tr>\n",
       "    <tr>\n",
       "      <th>5</th>\n",
       "      <td>45</td>\n",
       "      <td>37</td>\n",
       "    </tr>\n",
       "  </tbody>\n",
       "</table>\n",
       "</div>"
      ],
      "text/plain": [
       "    전   후\n",
       "0  59  41\n",
       "1  52  63\n",
       "2  55  68\n",
       "3  61  59\n",
       "4  59  84\n",
       "5  45  37"
      ]
     },
     "execution_count": 34,
     "metadata": {},
     "output_type": "execute_result"
    }
   ],
   "source": [
    "training_rel=pd.read_csv('data/ch11_training_rel.csv')\n",
    "toy_df=training_rel[:6].copy()\n",
    "toy_df"
   ]
  },
  {
   "cell_type": "code",
   "execution_count": 35,
   "id": "bd9568c3-8273-445c-8ecb-f4e656c921f7",
   "metadata": {},
   "outputs": [
    {
     "data": {
      "text/html": [
       "<div>\n",
       "<style scoped>\n",
       "    .dataframe tbody tr th:only-of-type {\n",
       "        vertical-align: middle;\n",
       "    }\n",
       "\n",
       "    .dataframe tbody tr th {\n",
       "        vertical-align: top;\n",
       "    }\n",
       "\n",
       "    .dataframe thead th {\n",
       "        text-align: right;\n",
       "    }\n",
       "</style>\n",
       "<table border=\"1\" class=\"dataframe\">\n",
       "  <thead>\n",
       "    <tr style=\"text-align: right;\">\n",
       "      <th></th>\n",
       "      <th>전</th>\n",
       "      <th>후</th>\n",
       "      <th>순위</th>\n",
       "    </tr>\n",
       "  </thead>\n",
       "  <tbody>\n",
       "    <tr>\n",
       "      <th>0</th>\n",
       "      <td>59</td>\n",
       "      <td>41</td>\n",
       "      <td>5</td>\n",
       "    </tr>\n",
       "    <tr>\n",
       "      <th>1</th>\n",
       "      <td>52</td>\n",
       "      <td>63</td>\n",
       "      <td>3</td>\n",
       "    </tr>\n",
       "    <tr>\n",
       "      <th>2</th>\n",
       "      <td>55</td>\n",
       "      <td>68</td>\n",
       "      <td>4</td>\n",
       "    </tr>\n",
       "    <tr>\n",
       "      <th>3</th>\n",
       "      <td>61</td>\n",
       "      <td>59</td>\n",
       "      <td>1</td>\n",
       "    </tr>\n",
       "    <tr>\n",
       "      <th>4</th>\n",
       "      <td>59</td>\n",
       "      <td>84</td>\n",
       "      <td>6</td>\n",
       "    </tr>\n",
       "    <tr>\n",
       "      <th>5</th>\n",
       "      <td>45</td>\n",
       "      <td>37</td>\n",
       "      <td>2</td>\n",
       "    </tr>\n",
       "  </tbody>\n",
       "</table>\n",
       "</div>"
      ],
      "text/plain": [
       "    전   후  순위\n",
       "0  59  41   5\n",
       "1  52  63   3\n",
       "2  55  68   4\n",
       "3  61  59   1\n",
       "4  59  84   6\n",
       "5  45  37   2"
      ]
     },
     "execution_count": 35,
     "metadata": {},
     "output_type": "execute_result"
    }
   ],
   "source": [
    "# 순위 적용\n",
    "diff = toy_df['후'] - toy_df['전']\n",
    "rank = stats.rankdata(abs(diff)).astype(int)\n",
    "toy_df['순위'] = rank\n",
    "toy_df"
   ]
  },
  {
   "cell_type": "code",
   "execution_count": 36,
   "id": "887bafe6-73d5-4990-a238-b7acd9a8e2ee",
   "metadata": {},
   "outputs": [
    {
     "data": {
      "text/plain": [
       "(8, 13)"
      ]
     },
     "execution_count": 36,
     "metadata": {},
     "output_type": "execute_result"
    }
   ],
   "source": [
    "import numpy as np\n",
    "\n",
    "r_minus = np.sum((diff < 0) * rank)\n",
    "r_plus = np.sum((diff > 0) * rank)\n",
    "\n",
    "r_minus, r_plus"
   ]
  },
  {
   "cell_type": "code",
   "execution_count": 37,
   "id": "2df301bd-2984-4044-a6b5-5ddd3886b507",
   "metadata": {},
   "outputs": [
    {
     "data": {
      "text/html": [
       "<div>\n",
       "<style scoped>\n",
       "    .dataframe tbody tr th:only-of-type {\n",
       "        vertical-align: middle;\n",
       "    }\n",
       "\n",
       "    .dataframe tbody tr th {\n",
       "        vertical-align: top;\n",
       "    }\n",
       "\n",
       "    .dataframe thead th {\n",
       "        text-align: right;\n",
       "    }\n",
       "</style>\n",
       "<table border=\"1\" class=\"dataframe\">\n",
       "  <thead>\n",
       "    <tr style=\"text-align: right;\">\n",
       "      <th></th>\n",
       "      <th>전</th>\n",
       "      <th>후</th>\n",
       "      <th>순위</th>\n",
       "      <th>차</th>\n",
       "    </tr>\n",
       "  </thead>\n",
       "  <tbody>\n",
       "    <tr>\n",
       "      <th>0</th>\n",
       "      <td>59</td>\n",
       "      <td>60</td>\n",
       "      <td>1</td>\n",
       "      <td>1</td>\n",
       "    </tr>\n",
       "    <tr>\n",
       "      <th>1</th>\n",
       "      <td>52</td>\n",
       "      <td>54</td>\n",
       "      <td>2</td>\n",
       "      <td>2</td>\n",
       "    </tr>\n",
       "    <tr>\n",
       "      <th>2</th>\n",
       "      <td>55</td>\n",
       "      <td>58</td>\n",
       "      <td>3</td>\n",
       "      <td>3</td>\n",
       "    </tr>\n",
       "    <tr>\n",
       "      <th>3</th>\n",
       "      <td>61</td>\n",
       "      <td>65</td>\n",
       "      <td>4</td>\n",
       "      <td>4</td>\n",
       "    </tr>\n",
       "    <tr>\n",
       "      <th>4</th>\n",
       "      <td>59</td>\n",
       "      <td>64</td>\n",
       "      <td>5</td>\n",
       "      <td>5</td>\n",
       "    </tr>\n",
       "    <tr>\n",
       "      <th>5</th>\n",
       "      <td>45</td>\n",
       "      <td>51</td>\n",
       "      <td>6</td>\n",
       "      <td>6</td>\n",
       "    </tr>\n",
       "  </tbody>\n",
       "</table>\n",
       "</div>"
      ],
      "text/plain": [
       "    전   후  순위  차\n",
       "0  59  60   1  1\n",
       "1  52  54   2  2\n",
       "2  55  58   3  3\n",
       "3  61  65   4  4\n",
       "4  59  64   5  5\n",
       "5  45  51   6  6"
      ]
     },
     "execution_count": 37,
     "metadata": {},
     "output_type": "execute_result"
    }
   ],
   "source": [
    "toy_df['후'] = toy_df['전'] + np.arange(1, 7)\n",
    "diff = toy_df['후'] - toy_df['전']\n",
    "rank = stats.rankdata(abs(diff)).astype(int)\n",
    "toy_df['차'] = diff\n",
    "toy_df['순위'] = rank\n",
    "toy_df"
   ]
  },
  {
   "cell_type": "code",
   "execution_count": 38,
   "id": "55710e7c-8d27-4997-8c06-540749480ed7",
   "metadata": {},
   "outputs": [
    {
     "data": {
      "text/html": [
       "<div>\n",
       "<style scoped>\n",
       "    .dataframe tbody tr th:only-of-type {\n",
       "        vertical-align: middle;\n",
       "    }\n",
       "\n",
       "    .dataframe tbody tr th {\n",
       "        vertical-align: top;\n",
       "    }\n",
       "\n",
       "    .dataframe thead th {\n",
       "        text-align: right;\n",
       "    }\n",
       "</style>\n",
       "<table border=\"1\" class=\"dataframe\">\n",
       "  <thead>\n",
       "    <tr style=\"text-align: right;\">\n",
       "      <th></th>\n",
       "      <th>전</th>\n",
       "      <th>후</th>\n",
       "      <th>순위</th>\n",
       "      <th>차</th>\n",
       "    </tr>\n",
       "  </thead>\n",
       "  <tbody>\n",
       "    <tr>\n",
       "      <th>0</th>\n",
       "      <td>59</td>\n",
       "      <td>60</td>\n",
       "      <td>1</td>\n",
       "      <td>1</td>\n",
       "    </tr>\n",
       "    <tr>\n",
       "      <th>1</th>\n",
       "      <td>52</td>\n",
       "      <td>50</td>\n",
       "      <td>2</td>\n",
       "      <td>-2</td>\n",
       "    </tr>\n",
       "    <tr>\n",
       "      <th>2</th>\n",
       "      <td>55</td>\n",
       "      <td>52</td>\n",
       "      <td>3</td>\n",
       "      <td>-3</td>\n",
       "    </tr>\n",
       "    <tr>\n",
       "      <th>3</th>\n",
       "      <td>61</td>\n",
       "      <td>65</td>\n",
       "      <td>4</td>\n",
       "      <td>4</td>\n",
       "    </tr>\n",
       "    <tr>\n",
       "      <th>4</th>\n",
       "      <td>59</td>\n",
       "      <td>64</td>\n",
       "      <td>5</td>\n",
       "      <td>5</td>\n",
       "    </tr>\n",
       "    <tr>\n",
       "      <th>5</th>\n",
       "      <td>45</td>\n",
       "      <td>39</td>\n",
       "      <td>6</td>\n",
       "      <td>-6</td>\n",
       "    </tr>\n",
       "  </tbody>\n",
       "</table>\n",
       "</div>"
      ],
      "text/plain": [
       "    전   후  순위  차\n",
       "0  59  60   1  1\n",
       "1  52  50   2 -2\n",
       "2  55  52   3 -3\n",
       "3  61  65   4  4\n",
       "4  59  64   5  5\n",
       "5  45  39   6 -6"
      ]
     },
     "execution_count": 38,
     "metadata": {},
     "output_type": "execute_result"
    }
   ],
   "source": [
    "toy_df['후'] = toy_df['전'] + [1, -2, -3, 4, 5, -6]\n",
    "diff = toy_df['후'] - toy_df['전']\n",
    "rank = stats.rankdata(abs(diff)).astype(int)\n",
    "toy_df['차'] = diff\n",
    "toy_df['순위'] = rank\n",
    "toy_df"
   ]
  },
  {
   "cell_type": "code",
   "execution_count": null,
   "id": "cd16de6f-887f-4633-8f9e-933b9785ecb6",
   "metadata": {},
   "outputs": [],
   "source": []
  }
 ],
 "metadata": {
  "kernelspec": {
   "display_name": "Python 3 (ipykernel)",
   "language": "python",
   "name": "python3"
  },
  "language_info": {
   "codemirror_mode": {
    "name": "ipython",
    "version": 3
   },
   "file_extension": ".py",
   "mimetype": "text/x-python",
   "name": "python",
   "nbconvert_exporter": "python",
   "pygments_lexer": "ipython3",
   "version": "3.10.13"
  }
 },
 "nbformat": 4,
 "nbformat_minor": 5
}
